{
 "cells": [
  {
   "cell_type": "markdown",
   "id": "2e13c917-ce27-432a-ab03-c9cb1391b1fc",
   "metadata": {},
   "source": [
    "# Profitable app profiles for the App Store and Google Play markets\n",
    "\n",
    "In this project, we are analysing data of free apps in the App Store and Google Play, to see what types of apps are profitable. We aim to find out what types of free apps consumers like the most. \n",
    "\n",
    "We are working for a company that makes free apps and whose main revenue is generated through in-app adds. We aim to find out more popular apps since these have more users, meaning more in-app ads are viewed, generating more revenue compared to other apps. By looking at successful apps, our developers will be able to understand what type of app to develop which would attract more users."
   ]
  },
  {
   "cell_type": "code",
   "execution_count": 2,
   "id": "444f8b29-755a-46bf-9da0-109d46f74627",
   "metadata": {},
   "outputs": [],
   "source": [
    "def explore_data(dataset, start, end, rows_and_columns=False):\n",
    "    dataset_slice = dataset[start:end]    \n",
    "    for row in dataset_slice:\n",
    "        print(row)\n",
    "        print('\\n') # we add a new (empty) line after each row, it starts to look like a table this way\n",
    "\n",
    "    if rows_and_columns:\n",
    "        print('Number of rows:', len(dataset))\n",
    "        print('Number of columns:', len(dataset[0]))"
   ]
  },
  {
   "cell_type": "markdown",
   "id": "b14e1d0a-4466-438a-8c67-2a30a7f22248",
   "metadata": {},
   "source": [
    "Above, we defined a new function which makes it easier to understand the rows of data we have. The function assumes the argument for the dataset parameter doesn't have a header row. Below, we open and save 2 data sets on Android and Ios apps as a list of lists, to help us achieve our task:\n",
    "- you can download the data about apps from the Apps Store from this [link](https://www.kaggle.com/datasets/lava18/google-play-store-apps)\n",
    "- you can download the data about apps from the Google Play Store from this [link](https://www.kaggle.com/datasets/ramamet4/app-store-apple-data-set-10k-apps)\n",
    "\n"
   ]
  },
  {
   "cell_type": "code",
   "execution_count": 4,
   "id": "2bf3e08b-e4be-403c-8c80-45b4c7bba67a",
   "metadata": {},
   "outputs": [],
   "source": [
    "from csv import reader\n",
    "\n",
    "# The Google Play data set \n",
    "opened_file = open('googleplaystore.csv')\n",
    "read_file = reader(opened_file)\n",
    "gplay = list(read_file)\n",
    "gplay_header = gplay[0]\n",
    "gplay = gplay[1:]\n",
    "\n",
    "# The App Store data set \n",
    "opened_file2 = open('AppleStore.csv')\n",
    "read_file2 = reader(opened_file2)\n",
    "apple = list(read_file2)\n",
    "apple_header = apple[0]\n",
    "apple = apple[1:]"
   ]
  },
  {
   "cell_type": "markdown",
   "id": "9c924b12-45cf-4781-abc4-215b273d17f3",
   "metadata": {},
   "source": [
    "## Opening and Exploring our Data \n",
    "**Let's explore the datasets with our newly defined function, starting with the Apple Store data:**"
   ]
  },
  {
   "cell_type": "code",
   "execution_count": 6,
   "id": "2c47d000-2b44-4793-a65e-11dd473ead39",
   "metadata": {},
   "outputs": [
    {
     "name": "stdout",
     "output_type": "stream",
     "text": [
      "['id', 'track_name', 'size_bytes', 'currency', 'price', 'rating_count_tot', 'rating_count_ver', 'user_rating', 'user_rating_ver', 'ver', 'cont_rating', 'prime_genre', 'sup_devices.num', 'ipadSc_urls.num', 'lang.num', 'vpp_lic']\n",
      "\n",
      "\n",
      "['284882215', 'Facebook', '389879808', 'USD', '0.0', '2974676', '212', '3.5', '3.5', '95.0', '4+', 'Social Networking', '37', '1', '29', '1']\n",
      "\n",
      "\n",
      "['389801252', 'Instagram', '113954816', 'USD', '0.0', '2161558', '1289', '4.5', '4.0', '10.23', '12+', 'Photo & Video', '37', '0', '29', '1']\n",
      "\n",
      "\n",
      "['529479190', 'Clash of Clans', '116476928', 'USD', '0.0', '2130805', '579', '4.5', '4.5', '9.24.12', '9+', 'Games', '38', '5', '18', '1']\n",
      "\n",
      "\n",
      "Number of rows: 7197\n",
      "Number of columns: 16\n"
     ]
    }
   ],
   "source": [
    "\n",
    "# These are the names of the columns for our data; they are the same for both datasets. They describe what the data is about briefly through the name.\n",
    "print(apple_header)\n",
    "print('\\n')\n",
    "# exploring our datasets' first few rows\n",
    "explore_data(apple, 0, 3, True)\n"
   ]
  },
  {
   "cell_type": "markdown",
   "id": "5d285b51-d7d3-459c-a471-c0e68f93af26",
   "metadata": {},
   "source": [
    "**We have data on 7197 apps from Apple's App Store.**\n",
    "\n",
    "The naming of the columns is a little complicated, so if you do not get the name straight away please have a look at the data's documentation [here](https://www.kaggle.com/datasets/ramamet4/app-store-apple-data-set-10k-apps)\n",
    "\n",
    "**From the names of the columns for our datasets, the types of data that seem helpful in our analysis are: 'track_name', 'price', 'rating_count_tot' and 'prime_genre'**"
   ]
  },
  {
   "cell_type": "code",
   "execution_count": 8,
   "id": "4726e83e-5cde-47cc-a795-56b8d0bd5ab4",
   "metadata": {},
   "outputs": [
    {
     "name": "stdout",
     "output_type": "stream",
     "text": [
      "['App', 'Category', 'Rating', 'Reviews', 'Size', 'Installs', 'Type', 'Price', 'Content Rating', 'Genres', 'Last Updated', 'Current Ver', 'Android Ver']\n",
      "\n",
      "\n",
      "['Photo Editor & Candy Camera & Grid & ScrapBook', 'ART_AND_DESIGN', '4.1', '159', '19M', '10,000+', 'Free', '0', 'Everyone', 'Art & Design', 'January 7, 2018', '1.0.0', '4.0.3 and up']\n",
      "\n",
      "\n",
      "['Coloring book moana', 'ART_AND_DESIGN', '3.9', '967', '14M', '500,000+', 'Free', '0', 'Everyone', 'Art & Design;Pretend Play', 'January 15, 2018', '2.0.0', '4.0.3 and up']\n",
      "\n",
      "\n",
      "['U Launcher Lite – FREE Live Cool Themes, Hide Apps', 'ART_AND_DESIGN', '4.7', '87510', '8.7M', '5,000,000+', 'Free', '0', 'Everyone', 'Art & Design', 'August 1, 2018', '1.2.4', '4.0.3 and up']\n",
      "\n",
      "\n",
      "Number of rows: 10841\n",
      "Number of columns: 13\n"
     ]
    }
   ],
   "source": [
    "print(gplay_header)\n",
    "print('\\n')\n",
    "explore_data(gplay, 0, 3, True)"
   ]
  },
  {
   "cell_type": "markdown",
   "id": "877ab892-bb60-4d29-957b-0c680522fa86",
   "metadata": {},
   "source": [
    "**We have data on 10,841 apps from the Google Play Store.**\n",
    "\n",
    "**From the names of the columns for our datasets, the types of data that seem helpful in our analysis are: 'App', 'Installs', 'Content Rating', 'Rating', 'Price', 'Reviews'**"
   ]
  },
  {
   "cell_type": "markdown",
   "id": "e69794ec-fbac-4245-8a45-ea41f2eed709",
   "metadata": {},
   "source": [
    "### Deleting Wrong Data\n",
    "\n",
    "From the dataset's discussion forum, we notice that there is an error in row 10472. To identify it, we compare it to our header row and a correct row of data, too see if there are any differences."
   ]
  },
  {
   "cell_type": "code",
   "execution_count": 11,
   "id": "b6df068c-c8bc-4a5b-8772-eb5fccffd596",
   "metadata": {},
   "outputs": [
    {
     "name": "stdout",
     "output_type": "stream",
     "text": [
      "['App', 'Category', 'Rating', 'Reviews', 'Size', 'Installs', 'Type', 'Price', 'Content Rating', 'Genres', 'Last Updated', 'Current Ver', 'Android Ver']\n",
      "['Life Made WI-Fi Touchscreen Photo Frame', '1.9', '19', '3.0M', '1,000+', 'Free', '0', 'Everyone', '', 'February 11, 2018', '1.0.19', '4.0 and up']\n",
      "['Logo Maker - Small Business', 'ART_AND_DESIGN', '4.0', '450', '14M', '100,000+', 'Free', '0', 'Everyone', 'Art & Design', 'April 20, 2018', '4.0', '4.1 and up']\n"
     ]
    }
   ],
   "source": [
    "print(gplay_header)\n",
    "print(gplay[10472])\n",
    "print(gplay[20])"
   ]
  },
  {
   "cell_type": "markdown",
   "id": "fdd45925-dcd3-4df9-9994-00fd39992fea",
   "metadata": {},
   "source": [
    "Looking at our header row and comparing the 10472nd app to a random app, we see that a rating of 19 is impossible for 'Life Made WI-Fi Touchscreen Photo Frame' since the maximum is 5.0. We see that we are missing the 'Category' entry for 'Life Made WI-Fi Touchscreen Photo Frame'.\n",
    "\n",
    "We should delete the information on this app therefore."
   ]
  },
  {
   "cell_type": "code",
   "execution_count": 13,
   "id": "22b003bb-473c-4e11-89c1-99fa8ec6b892",
   "metadata": {},
   "outputs": [
    {
     "name": "stdout",
     "output_type": "stream",
     "text": [
      "10841\n",
      "10840\n"
     ]
    }
   ],
   "source": [
    "# let's compare the length of our dataset before and after we delete this app information, to make sure we have deleted it.\n",
    "print(len(gplay))\n",
    "# use del to delete an element from our dataset\n",
    "del gplay[10472]\n",
    "print(len(gplay))"
   ]
  },
  {
   "cell_type": "markdown",
   "id": "664d5f5f-9408-4847-af38-dc0510296259",
   "metadata": {},
   "source": [
    "### Removing Duplicate Entries: \n",
    "\n",
    "Looking the Google Play data, we see that some apps have multiple entries. \n",
    "An example would be Instagram:"
   ]
  },
  {
   "cell_type": "code",
   "execution_count": 15,
   "id": "401cb15a-226d-4479-b869-05f8a8e7910d",
   "metadata": {},
   "outputs": [
    {
     "name": "stdout",
     "output_type": "stream",
     "text": [
      "['Instagram', 'SOCIAL', '4.5', '66577313', 'Varies with device', '1,000,000,000+', 'Free', '0', 'Teen', 'Social', 'July 31, 2018', 'Varies with device', 'Varies with device']\n",
      "['Instagram', 'SOCIAL', '4.5', '66577446', 'Varies with device', '1,000,000,000+', 'Free', '0', 'Teen', 'Social', 'July 31, 2018', 'Varies with device', 'Varies with device']\n",
      "['Instagram', 'SOCIAL', '4.5', '66577313', 'Varies with device', '1,000,000,000+', 'Free', '0', 'Teen', 'Social', 'July 31, 2018', 'Varies with device', 'Varies with device']\n",
      "['Instagram', 'SOCIAL', '4.5', '66509917', 'Varies with device', '1,000,000,000+', 'Free', '0', 'Teen', 'Social', 'July 31, 2018', 'Varies with device', 'Varies with device']\n"
     ]
    }
   ],
   "source": [
    "for app in gplay:\n",
    "    name = app[0]\n",
    "    if name == 'Instagram':\n",
    "        print(app)\n",
    "        # this will show us all Instagram entries "
   ]
  },
  {
   "cell_type": "markdown",
   "id": "7dcaf510-86ee-48ff-bb21-219bdf186c77",
   "metadata": {},
   "source": [
    "We do not want to have duplicate entries in our data. It is best to find all the apps with multiple entries, and eventually remove them.\n"
   ]
  },
  {
   "cell_type": "code",
   "execution_count": 17,
   "id": "2ec76aad-ca0e-407c-beb4-52c26a226686",
   "metadata": {},
   "outputs": [
    {
     "name": "stdout",
     "output_type": "stream",
     "text": [
      "There are 1181 apps with duplicate entries\n",
      "\n",
      "\n",
      "Some examples of duplicate apps are:  ['Quick PDF Scanner + OCR FREE', 'Box', 'Google My Business', 'ZOOM Cloud Meetings', 'join.me - Simple Meetings', 'Box', 'Zenefits', 'Google Ads', 'Google My Business', 'Slack']\n"
     ]
    }
   ],
   "source": [
    "# separate the unique apps with 1 entry in our data and the apps with duplicate entries\n",
    "duplicate_apps = []\n",
    "unique_apps = []\n",
    "# identify the apps with duplicate entries and update our lists\n",
    "for app in gplay:\n",
    "    name = app[0]\n",
    "    if name in unique_apps:\n",
    "        duplicate_apps.append(name)\n",
    "    else:\n",
    "        unique_apps.append(name)\n",
    "# count how many apps have duplicate entries\n",
    "print(f'There are {len(duplicate_apps)} apps with duplicate entries')\n",
    "print('\\n')\n",
    "print('Some examples of duplicate apps are: ', duplicate_apps[:10]) "
   ]
  },
  {
   "cell_type": "markdown",
   "id": "3b4a808f-69c7-49c7-8a04-7b45be0b42e4",
   "metadata": {},
   "source": [
    "We want to remove the duplicate entries for the apps and only keep one for each app. We could delete duplicates randomly until one is left, but this is not ideal. Ideally, we want the most recent data for the apps so that our analysis is as accurate as possible. We can tell which is the most recent entry by looking at the fourth element of our entry, the number of reviews the app has. The row of data which has the highest number of reviews for the given app is our most recent data on the app, which is what we want to keep.\n",
    "\n",
    "To do this, we can use a dictionary:\n",
    "- The keys will be unique app names, and their associated value will be their review count. We have one entry per app , which will be the entry with the highest number of reviews. This ensures we have unique keys and follows what we want.\n",
    "- We then use this dictionary to make our ideal dataset."
   ]
  },
  {
   "cell_type": "code",
   "execution_count": 19,
   "id": "ae348ffb-39e9-445a-aa41-b9e41a53f4ea",
   "metadata": {},
   "outputs": [],
   "source": [
    "reviews_max = {}\n",
    "\n",
    "for app in gplay:\n",
    "    name = app[0]\n",
    "    n_reviews = float(app[3])\n",
    "    \n",
    "    if name in reviews_max and reviews_max[name] < n_reviews:\n",
    "        reviews_max[name] = n_reviews\n",
    "        # update to the most recent value for number of reviews of the app\n",
    "    \n",
    "    elif name not in reviews_max:\n",
    "        reviews_max[name] = n_reviews\n",
    "        # add a key for this app as it is our first entry for it\n",
    "\n",
    "        "
   ]
  },
  {
   "cell_type": "markdown",
   "id": "da1567a9-508d-4ef1-ac46-a8fc7f4b9044",
   "metadata": {},
   "source": [
    "From our previous results, we know there are 1181 duplicate entries. Based on this, our dictionary's length should be the difference between the length of our dataset and 1181, which is equal to the number of unique entries of apps. \n",
    "Let us verify to make sure our dictionary is correct:"
   ]
  },
  {
   "cell_type": "code",
   "execution_count": 21,
   "id": "b8e3816d-0650-41f5-b605-bc134d0e19ee",
   "metadata": {},
   "outputs": [
    {
     "name": "stdout",
     "output_type": "stream",
     "text": [
      "Expected length: 9659\n",
      "Actual Length: 9659\n"
     ]
    }
   ],
   "source": [
    "print('Expected length:', len(gplay) - 1181)\n",
    "print('Actual Length:', len(reviews_max))"
   ]
  },
  {
   "cell_type": "markdown",
   "id": "dc74c7aa-5ce9-4183-8365-7a16a30b538d",
   "metadata": {},
   "source": [
    "Now that we know the dictionary is the right length, let's use it to remove the duplicate rows. In the code below:\n",
    "\n",
    "- We first make two empty lists: gplay_clean and already_added. One to create our new cleaned dataset, the other to keep track of what apps we have already added in our new dataset\n",
    "- We loop through gplay, and in each iteration:\n",
    "    - We save the name and number of reviews for the current app to separate variables\n",
    "    - We will add the app's name to already_added and the row of data if:\n",
    "        - The number of reviews for the app is equal to the value saved for this app in reviews_max. Remember, our dictionary had the highest number of reviews associated to the app name(the key)\n",
    "        - The name of the app is not already in the already_added list. This is important so that we only have one entry per app, and this entry will be the most recent data since it has the highest number of reviews for this app, confirmed in our above condition. We also do this to prevent cases where the highest number of reviews of a duplicate app is the same for more than one entry"
   ]
  },
  {
   "cell_type": "code",
   "execution_count": 23,
   "id": "6239b30c-0575-4ebe-888f-daba11d468cb",
   "metadata": {},
   "outputs": [],
   "source": [
    "# stores our new cleaned data with no duplicates\n",
    "gplay_clean = []\n",
    "# for app names\n",
    "already_added = []\n",
    "\n",
    "for app in gplay:\n",
    "    name = app[0]\n",
    "    n_reviews = float(app[3])\n",
    "\n",
    "    if (n_reviews == reviews_max[name]) and (name not in already_added):\n",
    "        gplay_clean.append(app)\n",
    "        already_added.append(name)\n"
   ]
  },
  {
   "cell_type": "markdown",
   "id": "3020ac57-57ab-4392-8c2f-50d7cbdda664",
   "metadata": {},
   "source": [
    "Let's now explore our new cleaned dataset for the apps from Google Play using explore_data(). We do this to ensure everything has gone correctly and that we have the correct number of rows in our dataset, 9659."
   ]
  },
  {
   "cell_type": "code",
   "execution_count": 25,
   "id": "077ffb0d-857a-4ff0-bb2a-0bae79857fac",
   "metadata": {},
   "outputs": [
    {
     "name": "stdout",
     "output_type": "stream",
     "text": [
      "['Photo Editor & Candy Camera & Grid & ScrapBook', 'ART_AND_DESIGN', '4.1', '159', '19M', '10,000+', 'Free', '0', 'Everyone', 'Art & Design', 'January 7, 2018', '1.0.0', '4.0.3 and up']\n",
      "\n",
      "\n",
      "['U Launcher Lite – FREE Live Cool Themes, Hide Apps', 'ART_AND_DESIGN', '4.7', '87510', '8.7M', '5,000,000+', 'Free', '0', 'Everyone', 'Art & Design', 'August 1, 2018', '1.2.4', '4.0.3 and up']\n",
      "\n",
      "\n",
      "['Sketch - Draw & Paint', 'ART_AND_DESIGN', '4.5', '215644', '25M', '50,000,000+', 'Free', '0', 'Teen', 'Art & Design', 'June 8, 2018', 'Varies with device', '4.2 and up']\n",
      "\n",
      "\n",
      "Number of rows: 9659\n",
      "Number of columns: 13\n"
     ]
    }
   ],
   "source": [
    "explore_data(gplay_clean, 0, 3, True)"
   ]
  },
  {
   "cell_type": "markdown",
   "id": "c3b778ee-4a70-4f76-a2b5-eb4d59fb06e2",
   "metadata": {},
   "source": [
    "As expected from our dictionary earlier, we have 9659 rows."
   ]
  },
  {
   "cell_type": "markdown",
   "id": "ca16cee7-764b-4a1f-a202-f66a5e6c1767",
   "metadata": {},
   "source": [
    "### Removing Non-English Apps: \n",
    "\n",
    "After a deeper look in the dataset, there are some non-english apps in our data too. We can see some examples below:"
   ]
  },
  {
   "cell_type": "code",
   "execution_count": 28,
   "id": "d0f13b13-3df6-4b79-9ee0-8fda3e946eaa",
   "metadata": {},
   "outputs": [
    {
     "name": "stdout",
     "output_type": "stream",
     "text": [
      "爱奇艺PPS -《欢乐颂2》电视剧热播\n",
      "中国語 AQリスニング\n"
     ]
    }
   ],
   "source": [
    "print(apple[813][1])\n",
    "\n",
    "print(gplay_clean[4412][0])"
   ]
  },
  {
   "cell_type": "markdown",
   "id": "84e2a377-9384-419a-9d99-d5aeb7ad7e73",
   "metadata": {},
   "source": [
    "Since we are using English for the apps being developed at our company, we want to only analyse English apps and remove Non-English apps.\n",
    "\n",
    "One way to remove them is by removing apps whose name has a character that is not normally used in English text. This can be found out using the character's corresponding ASCII number. Symbols and characters commonly used in English text are ASCII numbers 0 to 127.\n",
    "\n",
    "Since we are only interested in ASCII characters from 0 to 127, we can define a function which uses the built in function ord(), to identify which app names have Non-English characters."
   ]
  },
  {
   "cell_type": "code",
   "execution_count": 30,
   "id": "be79ba75-59f4-4f6c-82ce-d2ac688af4a2",
   "metadata": {},
   "outputs": [
    {
     "name": "stdout",
     "output_type": "stream",
     "text": [
      "True\n",
      "False\n",
      "False\n",
      "False\n"
     ]
    }
   ],
   "source": [
    "def is_english(string):\n",
    "    for character in string:\n",
    "        # iterate over each character in the string\n",
    "        if ord(character) > 127:\n",
    "            return False\n",
    "            # this will tell us the app is Non_english and the function will end here, not running what's below\n",
    "    return True\n",
    "# let's test it out with some strings\n",
    "\n",
    "print(is_english('Instagram'))\n",
    "print(is_english('爱奇艺PPS -《欢乐颂2》电视剧热播'))\n",
    "print(is_english('Docs To Go™ Free Office Suite'))\n",
    "print(is_english('Instachat 😜'))"
   ]
  },
  {
   "cell_type": "markdown",
   "id": "20402b68-4b1b-4c73-a2cf-93c4a07344db",
   "metadata": {},
   "source": [
    "Our function works fine, except when English apps have some symbols and emojis which are outside of our ASCII range of 0 to 127, which means they incorrectly get labelled as Non-English.\n",
    "\n",
    "We cannot let this happen as we would be removing useful data, so we should redefine our function to fix this.\n",
    "\n",
    "We will only count an app name as Non-English if there are more than 3 characters with ASCII numbers greater than 127. This way English apps with special symbols and emojis will still be classed as English apps. This is not a perfect filter but it should be good enough."
   ]
  },
  {
   "cell_type": "code",
   "execution_count": 32,
   "id": "dd11bd07-bff7-44d4-9687-db329fbdffb2",
   "metadata": {},
   "outputs": [
    {
     "name": "stdout",
     "output_type": "stream",
     "text": [
      "True\n",
      "True\n",
      "False\n"
     ]
    }
   ],
   "source": [
    "def is_english(string):\n",
    "    # have a variable to keep track of a string's non-english characters\n",
    "    not_eng = 0\n",
    "    for character in string:\n",
    "        \n",
    "        if ord(character) > 127:\n",
    "            not_eng +=  1\n",
    "    if not_eng > 3:\n",
    "        return False\n",
    "        # strings with more than 3 non-english characters will be labelled as Non-English\n",
    "    else:\n",
    "        return True\n",
    "        # the app name is English\n",
    "\n",
    "# let's test it out with some strings\n",
    "\n",
    "\n",
    "print(is_english('Docs To Go™ Free Office Suite'))\n",
    "print(is_english('Instachat 😜'))\n",
    "print(is_english('爱奇艺PPS -《欢乐颂2》电视剧热播'))"
   ]
  },
  {
   "cell_type": "markdown",
   "id": "e62b2c15-6d72-4ef7-879e-67d18c346385",
   "metadata": {},
   "source": [
    "Now that our function is defined correctly, let us use it to remove Non-English app names from both datasets:"
   ]
  },
  {
   "cell_type": "code",
   "execution_count": 34,
   "id": "81c38a35-87a5-4980-94ff-d46acf976f50",
   "metadata": {},
   "outputs": [
    {
     "name": "stdout",
     "output_type": "stream",
     "text": [
      "['284882215', 'Facebook', '389879808', 'USD', '0.0', '2974676', '212', '3.5', '3.5', '95.0', '4+', 'Social Networking', '37', '1', '29', '1']\n",
      "\n",
      "\n",
      "['389801252', 'Instagram', '113954816', 'USD', '0.0', '2161558', '1289', '4.5', '4.0', '10.23', '12+', 'Photo & Video', '37', '0', '29', '1']\n",
      "\n",
      "\n",
      "['529479190', 'Clash of Clans', '116476928', 'USD', '0.0', '2130805', '579', '4.5', '4.5', '9.24.12', '9+', 'Games', '38', '5', '18', '1']\n",
      "\n",
      "\n",
      "Number of rows: 6183\n",
      "Number of columns: 16\n",
      "\n",
      "\n",
      "['Photo Editor & Candy Camera & Grid & ScrapBook', 'ART_AND_DESIGN', '4.1', '159', '19M', '10,000+', 'Free', '0', 'Everyone', 'Art & Design', 'January 7, 2018', '1.0.0', '4.0.3 and up']\n",
      "\n",
      "\n",
      "['U Launcher Lite – FREE Live Cool Themes, Hide Apps', 'ART_AND_DESIGN', '4.7', '87510', '8.7M', '5,000,000+', 'Free', '0', 'Everyone', 'Art & Design', 'August 1, 2018', '1.2.4', '4.0.3 and up']\n",
      "\n",
      "\n",
      "['Sketch - Draw & Paint', 'ART_AND_DESIGN', '4.5', '215644', '25M', '50,000,000+', 'Free', '0', 'Teen', 'Art & Design', 'June 8, 2018', 'Varies with device', '4.2 and up']\n",
      "\n",
      "\n",
      "Number of rows: 9614\n",
      "Number of columns: 13\n"
     ]
    }
   ],
   "source": [
    "# lists for English apps from Apple App Store dataset\n",
    "eng_apple = []\n",
    "# lists for English apps from Google Play Store dataset\n",
    "eng_gplay = []\n",
    "# Filtering App store data for English apps\n",
    "for app in apple:\n",
    "    name = app[1]\n",
    "    if is_english(name) == True:\n",
    "        eng_apple.append(app)\n",
    "\n",
    "# Filtering Google Play data for English apps \n",
    "for app in gplay_clean:\n",
    "    name = app[0]\n",
    "    if is_english(name) == True:\n",
    "        eng_gplay.append(app)\n",
    "# let us see how many English apps we have\n",
    "explore_data(eng_apple,0 ,3, True)\n",
    "print('\\n')\n",
    "explore_data(eng_gplay,0 ,3, True)"
   ]
  },
  {
   "cell_type": "markdown",
   "id": "b27bca2c-00bc-48b8-a695-3b9302d7a58d",
   "metadata": {},
   "source": [
    "We are left with 6183 iOS apps and 9614 android apps."
   ]
  },
  {
   "cell_type": "markdown",
   "id": "c94f36f3-a0a7-481d-a712-f25d11735df3",
   "metadata": {},
   "source": [
    "### Isolating the Free Apps\n",
    "\n",
    "Our company only builds free apps and their main source of revenue is in-app adds. Our datasets have both free and paid apps, so we want to isolate the free apps from the datasets."
   ]
  },
  {
   "cell_type": "code",
   "execution_count": 37,
   "id": "c4c11357-7b8e-4029-aaa2-3219f586063a",
   "metadata": {},
   "outputs": [
    {
     "name": "stdout",
     "output_type": "stream",
     "text": [
      "8864\n",
      "3222\n"
     ]
    }
   ],
   "source": [
    "# Google play english app data\n",
    "final_gplay = []\n",
    "for app in eng_gplay:\n",
    "    price = app[7]\n",
    "    if price == '0':\n",
    "        final_gplay.append(app)\n",
    "\n",
    "# Apple app store english apps\n",
    "final_apple = []\n",
    "for app in eng_apple:\n",
    "    price = app[4]\n",
    "    if price == '0.0':\n",
    "        final_apple.append(app)\n",
    "\n",
    "# check the lengths of our data\n",
    "print(len(final_gplay))\n",
    "print(len(final_apple))"
   ]
  },
  {
   "cell_type": "markdown",
   "id": "6cc22794-2d86-48e5-aff5-fd7eaac37ff6",
   "metadata": {},
   "source": [
    "We are left with 8864 Android apps and 3222 iOS apps, which should be enough for our analysis."
   ]
  },
  {
   "cell_type": "markdown",
   "id": "4cf84918-a9cd-44d4-97b9-a4075a0aed9e",
   "metadata": {},
   "source": [
    "## Most Common Apps by Genre: \n",
    "\n",
    "### Part One\n",
    "\n",
    "Our Strategy for an app idea is:\n",
    "- Build a minimal Android version of the app, and add it to Google Play.\n",
    "- If the app has a good response from users, we develop it further.\n",
    "- If the app is profitable after six months, we build an iOS version of the app and add it to the App Store.\n",
    "\n",
    "Since we ultimately want to release the app on both platforms, we want the app to be popular on both platforms. A good start to find out what is popular for both is to look at the most popular genres on Google Play and the App Store.\n",
    "\n",
    "To do this, we will need to construct frequency tables for the 'prime_genre' column of the App Store data set, and the 'Genres' and 'Category' columns of the Google Play data set.\n",
    "\n"
   ]
  },
  {
   "cell_type": "markdown",
   "id": "e82bce43-1f73-4fa7-9725-bfb041086a96",
   "metadata": {},
   "source": [
    "### Part Two \n",
    "\n",
    "We are going to build 2 functions to analyse the frequency tables:\n",
    "- one will generate frequency tables that show percentages\n",
    "- Another function we can use to display the percentages in a descending order\n"
   ]
  },
  {
   "cell_type": "code",
   "execution_count": 41,
   "id": "6181037d-0269-4c11-b843-05c15326b44c",
   "metadata": {},
   "outputs": [],
   "source": [
    "\n",
    "def freq_table(dataset, index):\n",
    "    freq_dict = {}\n",
    "    total = 0 # to keep track of the total number of entries in our specified column\n",
    "    for app in dataset:\n",
    "        total += 1\n",
    "        # saving the app's data point for the column we want\n",
    "        value = app[index]\n",
    "        \n",
    "        if value in freq_dict:\n",
    "            freq_dict[value] += 1\n",
    "        else:\n",
    "            freq_dict[value] = 1\n",
    "\n",
    "    freq_percentages = {}\n",
    "    for key in freq_dict:\n",
    "        percentage = (freq_dict[key]/total) * 100\n",
    "        freq_percentages[key] = percentage\n",
    "\n",
    "    return freq_percentages\n",
    "\n",
    "def display_table(dataset, index):\n",
    "    table = freq_table(dataset, index)\n",
    "    table_display = []\n",
    "    for key in table:\n",
    "        key_val_as_tuple = (table[key], key)\n",
    "        table_display.append(key_val_as_tuple)\n",
    "\n",
    "    table_sorted = sorted(table_display, reverse = True)\n",
    "    for entry in table_sorted:\n",
    "        print(entry[1], ':', entry[0])\n",
    "\n",
    "            "
   ]
  },
  {
   "cell_type": "markdown",
   "id": "b23c790c-f6c6-442c-9158-161c9b975d61",
   "metadata": {},
   "source": [
    "Let's begin analysing the App Store's most popular genres:"
   ]
  },
  {
   "cell_type": "code",
   "execution_count": 43,
   "id": "d703a9f1-682d-4024-a458-9c9385d6e3bb",
   "metadata": {},
   "outputs": [
    {
     "name": "stdout",
     "output_type": "stream",
     "text": [
      "Games : 58.16263190564867\n",
      "Entertainment : 7.883302296710118\n",
      "Photo & Video : 4.9658597144630665\n",
      "Education : 3.662321539416512\n",
      "Social Networking : 3.2898820608317814\n",
      "Shopping : 2.60707635009311\n",
      "Utilities : 2.5139664804469275\n",
      "Sports : 2.1415270018621975\n",
      "Music : 2.0484171322160147\n",
      "Health & Fitness : 2.0173805090006205\n",
      "Productivity : 1.7380509000620732\n",
      "Lifestyle : 1.5828677839851024\n",
      "News : 1.3345747982619491\n",
      "Travel : 1.2414649286157666\n",
      "Finance : 1.1173184357541899\n",
      "Weather : 0.8690254500310366\n",
      "Food & Drink : 0.8069522036002483\n",
      "Reference : 0.5586592178770949\n",
      "Business : 0.5276225946617008\n",
      "Book : 0.4345127250155183\n",
      "Navigation : 0.186219739292365\n",
      "Medical : 0.186219739292365\n",
      "Catalogs : 0.12414649286157665\n"
     ]
    }
   ],
   "source": [
    "# prime_genre column\n",
    "display_table(final_apple,11) "
   ]
  },
  {
   "cell_type": "markdown",
   "id": "69690668-915b-445a-880d-cfaa2d39f70f",
   "metadata": {},
   "source": [
    "From above, we see that 'Games' is the most popular genre as more than half of free English apps are games, followed by 'Entertainment' at around 8%. The type of free english apps used the most are ones designed for entertainment and leisure, like: \n",
    "- games\n",
    "- entertainment\n",
    "- photo & video\n",
    "\n",
    "Apps with practical uses (education, productivity, lifestyle, etc.) are more rare.\n",
    "Based on this data alone, we cannot recommend an App Profile for our company. We should also consider the number of users; it could be that there is much more supply in this genre than demanded by users. \n",
    "\n",
    "Let's continue by looking at the Genres and Category columns of the Google Play data set:"
   ]
  },
  {
   "cell_type": "code",
   "execution_count": 45,
   "id": "3728dd4e-b6e6-482b-9a7d-3eca6fe0d01c",
   "metadata": {},
   "outputs": [
    {
     "name": "stdout",
     "output_type": "stream",
     "text": [
      "FAMILY : 18.907942238267147\n",
      "GAME : 9.724729241877256\n",
      "TOOLS : 8.461191335740072\n",
      "BUSINESS : 4.591606498194946\n",
      "LIFESTYLE : 3.9034296028880866\n",
      "PRODUCTIVITY : 3.892148014440433\n",
      "FINANCE : 3.7003610108303246\n",
      "MEDICAL : 3.531137184115524\n",
      "SPORTS : 3.395758122743682\n",
      "PERSONALIZATION : 3.3167870036101084\n",
      "COMMUNICATION : 3.2378158844765346\n",
      "HEALTH_AND_FITNESS : 3.0798736462093865\n",
      "PHOTOGRAPHY : 2.944494584837545\n",
      "NEWS_AND_MAGAZINES : 2.7978339350180503\n",
      "SOCIAL : 2.6624548736462095\n",
      "TRAVEL_AND_LOCAL : 2.33528880866426\n",
      "SHOPPING : 2.2450361010830324\n",
      "BOOKS_AND_REFERENCE : 2.1435018050541514\n",
      "DATING : 1.861462093862816\n",
      "VIDEO_PLAYERS : 1.7937725631768955\n",
      "MAPS_AND_NAVIGATION : 1.3989169675090252\n",
      "FOOD_AND_DRINK : 1.2409747292418771\n",
      "EDUCATION : 1.1620036101083033\n",
      "ENTERTAINMENT : 0.9589350180505415\n",
      "LIBRARIES_AND_DEMO : 0.9363718411552346\n",
      "AUTO_AND_VEHICLES : 0.9250902527075812\n",
      "HOUSE_AND_HOME : 0.8235559566787004\n",
      "WEATHER : 0.8009927797833934\n",
      "EVENTS : 0.7107400722021661\n",
      "PARENTING : 0.6543321299638989\n",
      "ART_AND_DESIGN : 0.6430505415162455\n",
      "COMICS : 0.6204873646209386\n",
      "BEAUTY : 0.5979241877256317\n"
     ]
    }
   ],
   "source": [
    "# generate frequency tables for the columns we are interested in using the display_table function\n",
    "\n",
    "display_table(final_gplay,1) # category column\n"
   ]
  },
  {
   "cell_type": "markdown",
   "id": "5ee98964-c332-4b8b-a32d-1b903d003f7d",
   "metadata": {},
   "source": [
    "Family and Game categories are the most popular. The Family category mostly consists of games too, so we have similar results to the App Store data. Tools and other practical categories are more popular and represented on Google Play's free english app selection. Overall Google Play is much more balanced in entertainment and practical apps.\n",
    "\n",
    "Looking at the Genre column next:"
   ]
  },
  {
   "cell_type": "code",
   "execution_count": 47,
   "id": "eb6091ef-a052-4cbf-8570-964625322160",
   "metadata": {},
   "outputs": [
    {
     "name": "stdout",
     "output_type": "stream",
     "text": [
      "Tools : 8.449909747292418\n",
      "Entertainment : 6.069494584837545\n",
      "Education : 5.347472924187725\n",
      "Business : 4.591606498194946\n",
      "Productivity : 3.892148014440433\n",
      "Lifestyle : 3.892148014440433\n",
      "Finance : 3.7003610108303246\n",
      "Medical : 3.531137184115524\n",
      "Sports : 3.463447653429603\n",
      "Personalization : 3.3167870036101084\n",
      "Communication : 3.2378158844765346\n",
      "Action : 3.1024368231046933\n",
      "Health & Fitness : 3.0798736462093865\n",
      "Photography : 2.944494584837545\n",
      "News & Magazines : 2.7978339350180503\n",
      "Social : 2.6624548736462095\n",
      "Travel & Local : 2.3240072202166067\n",
      "Shopping : 2.2450361010830324\n",
      "Books & Reference : 2.1435018050541514\n",
      "Simulation : 2.0419675090252705\n",
      "Dating : 1.861462093862816\n",
      "Arcade : 1.8501805054151623\n",
      "Video Players & Editors : 1.7712093862815883\n",
      "Casual : 1.7599277978339352\n",
      "Maps & Navigation : 1.3989169675090252\n",
      "Food & Drink : 1.2409747292418771\n",
      "Puzzle : 1.128158844765343\n",
      "Racing : 0.9927797833935018\n",
      "Role Playing : 0.9363718411552346\n",
      "Libraries & Demo : 0.9363718411552346\n",
      "Auto & Vehicles : 0.9250902527075812\n",
      "Strategy : 0.9138086642599278\n",
      "House & Home : 0.8235559566787004\n",
      "Weather : 0.8009927797833934\n",
      "Events : 0.7107400722021661\n",
      "Adventure : 0.6768953068592057\n",
      "Comics : 0.6092057761732852\n",
      "Beauty : 0.5979241877256317\n",
      "Art & Design : 0.5979241877256317\n",
      "Parenting : 0.4963898916967509\n",
      "Card : 0.45126353790613716\n",
      "Casino : 0.42870036101083037\n",
      "Trivia : 0.41741877256317694\n",
      "Educational;Education : 0.39485559566787\n",
      "Board : 0.3835740072202166\n",
      "Educational : 0.3722924187725632\n",
      "Education;Education : 0.33844765342960287\n",
      "Word : 0.2594765342960289\n",
      "Casual;Pretend Play : 0.236913357400722\n",
      "Music : 0.2030685920577617\n",
      "Racing;Action & Adventure : 0.16922382671480143\n",
      "Puzzle;Brain Games : 0.16922382671480143\n",
      "Entertainment;Music & Video : 0.16922382671480143\n",
      "Casual;Brain Games : 0.13537906137184114\n",
      "Casual;Action & Adventure : 0.13537906137184114\n",
      "Arcade;Action & Adventure : 0.12409747292418773\n",
      "Action;Action & Adventure : 0.10153429602888085\n",
      "Educational;Pretend Play : 0.09025270758122744\n",
      "Simulation;Action & Adventure : 0.078971119133574\n",
      "Parenting;Education : 0.078971119133574\n",
      "Entertainment;Brain Games : 0.078971119133574\n",
      "Board;Brain Games : 0.078971119133574\n",
      "Parenting;Music & Video : 0.06768953068592057\n",
      "Educational;Brain Games : 0.06768953068592057\n",
      "Casual;Creativity : 0.06768953068592057\n",
      "Art & Design;Creativity : 0.06768953068592057\n",
      "Education;Pretend Play : 0.056407942238267145\n",
      "Role Playing;Pretend Play : 0.04512635379061372\n",
      "Education;Creativity : 0.04512635379061372\n",
      "Role Playing;Action & Adventure : 0.033844765342960284\n",
      "Puzzle;Action & Adventure : 0.033844765342960284\n",
      "Entertainment;Creativity : 0.033844765342960284\n",
      "Entertainment;Action & Adventure : 0.033844765342960284\n",
      "Educational;Creativity : 0.033844765342960284\n",
      "Educational;Action & Adventure : 0.033844765342960284\n",
      "Education;Music & Video : 0.033844765342960284\n",
      "Education;Brain Games : 0.033844765342960284\n",
      "Education;Action & Adventure : 0.033844765342960284\n",
      "Adventure;Action & Adventure : 0.033844765342960284\n",
      "Video Players & Editors;Music & Video : 0.02256317689530686\n",
      "Sports;Action & Adventure : 0.02256317689530686\n",
      "Simulation;Pretend Play : 0.02256317689530686\n",
      "Puzzle;Creativity : 0.02256317689530686\n",
      "Music;Music & Video : 0.02256317689530686\n",
      "Entertainment;Pretend Play : 0.02256317689530686\n",
      "Casual;Education : 0.02256317689530686\n",
      "Board;Action & Adventure : 0.02256317689530686\n",
      "Video Players & Editors;Creativity : 0.01128158844765343\n",
      "Trivia;Education : 0.01128158844765343\n",
      "Travel & Local;Action & Adventure : 0.01128158844765343\n",
      "Tools;Education : 0.01128158844765343\n",
      "Strategy;Education : 0.01128158844765343\n",
      "Strategy;Creativity : 0.01128158844765343\n",
      "Strategy;Action & Adventure : 0.01128158844765343\n",
      "Simulation;Education : 0.01128158844765343\n",
      "Role Playing;Brain Games : 0.01128158844765343\n",
      "Racing;Pretend Play : 0.01128158844765343\n",
      "Puzzle;Education : 0.01128158844765343\n",
      "Parenting;Brain Games : 0.01128158844765343\n",
      "Music & Audio;Music & Video : 0.01128158844765343\n",
      "Lifestyle;Pretend Play : 0.01128158844765343\n",
      "Lifestyle;Education : 0.01128158844765343\n",
      "Health & Fitness;Education : 0.01128158844765343\n",
      "Health & Fitness;Action & Adventure : 0.01128158844765343\n",
      "Entertainment;Education : 0.01128158844765343\n",
      "Communication;Creativity : 0.01128158844765343\n",
      "Comics;Creativity : 0.01128158844765343\n",
      "Casual;Music & Video : 0.01128158844765343\n",
      "Card;Action & Adventure : 0.01128158844765343\n",
      "Books & Reference;Education : 0.01128158844765343\n",
      "Art & Design;Pretend Play : 0.01128158844765343\n",
      "Art & Design;Action & Adventure : 0.01128158844765343\n",
      "Arcade;Pretend Play : 0.01128158844765343\n",
      "Adventure;Education : 0.01128158844765343\n"
     ]
    }
   ],
   "source": [
    "display_table(final_gplay,9 ) # genre column"
   ]
  },
  {
   "cell_type": "markdown",
   "id": "0217e977-6746-4d2e-a431-48e023755e61",
   "metadata": {},
   "source": [
    "As suggested in the Category column, practical apps are more popular on Google Play compared to the App Store. On the other hand, games and entertainment apps are more popular on the App Store.\n",
    "\n",
    "Our frequency tables reveal the most popular genres, but to recommend an App Profile, we next want to know which type of apps have the most users.\n",
    "\n",
    "## Most Popular Apps by Genre on the App Store\n",
    "\n",
    "One way to find the most popular genres (which have the most users) is to calculate the average number of installs for each app genre. For the Google Play data set, we can find this in the Installs column, but for the App Store data set this information is missing. As a substitute, we'll take the total number of user ratings as a proxy, which we can find in the rating_count_tot app.\n",
    "\n",
    "Below, we start by calculating the average number of user ratings per app genre on the App Store:\n",
    "\n"
   ]
  },
  {
   "cell_type": "code",
   "execution_count": 49,
   "id": "04f529c4-7a72-4a39-a13b-92a2f33d71e3",
   "metadata": {},
   "outputs": [
    {
     "name": "stdout",
     "output_type": "stream",
     "text": [
      "Social Networking :  71548.34905660378\n",
      "Photo & Video :  28441.54375\n",
      "Games :  22788.6696905016\n",
      "Music :  57326.530303030304\n",
      "Reference :  74942.11111111111\n",
      "Health & Fitness :  23298.015384615384\n",
      "Weather :  52279.892857142855\n",
      "Utilities :  18684.456790123455\n",
      "Travel :  28243.8\n",
      "Shopping :  26919.690476190477\n",
      "News :  21248.023255813954\n",
      "Navigation :  86090.33333333333\n",
      "Lifestyle :  16485.764705882353\n",
      "Entertainment :  14029.830708661417\n",
      "Food & Drink :  33333.92307692308\n",
      "Sports :  23008.898550724636\n",
      "Book :  39758.5\n",
      "Finance :  31467.944444444445\n",
      "Education :  7003.983050847458\n",
      "Productivity :  21028.410714285714\n",
      "Business :  7491.117647058823\n",
      "Catalogs :  4004.0\n",
      "Medical :  612.0\n"
     ]
    }
   ],
   "source": [
    "# generate a frequency table for prime_genres, to know the app genres\n",
    "apple_genres = freq_table(final_apple, 11)\n",
    "\n",
    "\n",
    "for genre in apple_genres:\n",
    "    # store the total number of ratings for this genre\n",
    "    total = 0 \n",
    "    # stores the number of apps for this genre\n",
    "    len_genre = 0\n",
    "\n",
    "    for app in final_apple:\n",
    "        genre_app = app[11]\n",
    "        if genre_app == genre:\n",
    "            # update the total number of ratings and number of apps for the genre\n",
    "            tot_ratings = float(app[5])\n",
    "            total = total + tot_ratings\n",
    "            len_genre += 1\n",
    "    # calculate the average number of ratings for the genre\n",
    "    average_ratings = total/len_genre\n",
    "\n",
    "    print(genre, ': ', average_ratings) \n",
    "\n"
   ]
  },
  {
   "cell_type": "markdown",
   "id": "d2a98304-731d-4c94-999b-6aa323a31da9",
   "metadata": {},
   "source": [
    "From the above data, we see that Navigation apps have the most ratings, but this is probably influenced by the popularity of Google Maps and Waze:\n"
   ]
  },
  {
   "cell_type": "code",
   "execution_count": 51,
   "id": "fab9069d-1f6b-455b-8db5-930cb15ed8bc",
   "metadata": {},
   "outputs": [
    {
     "name": "stdout",
     "output_type": "stream",
     "text": [
      "Waze - GPS Navigation, Maps & Real-time Traffic : 345046\n",
      "Google Maps - Navigation & Transit : 154911\n",
      "Geocaching® : 12811\n",
      "CoPilot GPS – Car Navigation & Offline Maps : 3582\n",
      "ImmobilienScout24: Real Estate Search in Germany : 187\n",
      "Railway Route Search : 5\n"
     ]
    }
   ],
   "source": [
    "for app in final_apple:\n",
    "    if app[-5] == 'Navigation':\n",
    "        # print name and number of ratings\n",
    "        print(app[1], ':', app[5]) "
   ]
  },
  {
   "cell_type": "markdown",
   "id": "70d84597-be5e-4099-9da7-90c564cc4dc6",
   "metadata": {},
   "source": [
    "The same can be said for social networking (Instagram, X, etc) and music genres (Spotify, Apple Music), both genres are dominated by a few apps.\n",
    "\n",
    "We want to find popular genres where their number of ratings are not skewed by a few apps. That way the new app we make will actully be able to compete with the other apps easier.\n",
    "\n",
    "Another genre with high ratings is Reference. Let's have a look at the number of ratings for the apps in this genre:"
   ]
  },
  {
   "cell_type": "code",
   "execution_count": 53,
   "id": "5d0433dd-29f6-4d2a-af0b-a4c7cff78b71",
   "metadata": {},
   "outputs": [
    {
     "name": "stdout",
     "output_type": "stream",
     "text": [
      "Bible : 985920\n",
      "Dictionary.com Dictionary & Thesaurus : 200047\n",
      "Dictionary.com Dictionary & Thesaurus for iPad : 54175\n",
      "Google Translate : 26786\n",
      "Muslim Pro: Ramadan 2017 Prayer Times, Azan, Quran : 18418\n",
      "New Furniture Mods - Pocket Wiki & Game Tools for Minecraft PC Edition : 17588\n",
      "Merriam-Webster Dictionary : 16849\n",
      "Night Sky : 12122\n",
      "City Maps for Minecraft PE - The Best Maps for Minecraft Pocket Edition (MCPE) : 8535\n",
      "LUCKY BLOCK MOD ™ for Minecraft PC Edition - The Best Pocket Wiki & Mods Installer Tools : 4693\n",
      "GUNS MODS for Minecraft PC Edition - Mods Tools : 1497\n",
      "Guides for Pokémon GO - Pokemon GO News and Cheats : 826\n",
      "WWDC : 762\n",
      "Horror Maps for Minecraft PE - Download The Scariest Maps for Minecraft Pocket Edition (MCPE) Free : 718\n",
      "VPN Express : 14\n",
      "Real Bike Traffic Rider Virtual Reality Glasses : 8\n",
      "教えて!goo : 0\n",
      "Jishokun-Japanese English Dictionary & Translator : 0\n"
     ]
    }
   ],
   "source": [
    "for app in final_apple:\n",
    "    if app[-5] == 'Reference':\n",
    "        print(app[1], ':', app[5])"
   ]
  },
  {
   "cell_type": "markdown",
   "id": "2bd62184-7c82-4625-b520-f76e28e5d7d0",
   "metadata": {},
   "source": [
    "Although the Bible and Dictionary apps have much higher number of ratings than the others, there are still a handful of apps with a decent number of ratings. Therefore this genre could be a good choice for our App Profile.\n",
    "\n",
    "Based on our previous findings, we know that there are a lot more for-fun apps than practical apps on the App Store, so we should try make our app more practical to stand out. \n",
    "\n",
    "Maybe we could have an app that would summarise textbooks or non-fiction books, and these summaries could be listened to as audio too.\n",
    "\n",
    "Let's look at the Google Play data next:"
   ]
  },
  {
   "cell_type": "markdown",
   "id": "fc7dfb3a-0104-4d73-9ba4-d4c0cdac3f18",
   "metadata": {},
   "source": [
    "## Most Popular Apps by Genre on Google Play\n",
    "\n",
    "Our google play dataset has information on the number of installs, however these numbers are not precise as they are open-ended (e.g. '100,000+'). Looking at the 'Installs' column:"
   ]
  },
  {
   "cell_type": "code",
   "execution_count": 56,
   "id": "48c93446-bab0-4d9b-99bf-05a867e7cee7",
   "metadata": {},
   "outputs": [
    {
     "name": "stdout",
     "output_type": "stream",
     "text": [
      "1,000,000+ : 15.726534296028879\n",
      "100,000+ : 11.552346570397113\n",
      "10,000,000+ : 10.548285198555957\n",
      "10,000+ : 10.198555956678701\n",
      "1,000+ : 8.393501805054152\n",
      "100+ : 6.915613718411552\n",
      "5,000,000+ : 6.825361010830325\n",
      "500,000+ : 5.561823104693141\n",
      "50,000+ : 4.7721119133574\n",
      "5,000+ : 4.512635379061372\n",
      "10+ : 3.5424187725631766\n",
      "500+ : 3.2490974729241873\n",
      "50,000,000+ : 2.3014440433213\n",
      "100,000,000+ : 2.1322202166064983\n",
      "50+ : 1.917870036101083\n",
      "5+ : 0.78971119133574\n",
      "1+ : 0.5076714801444043\n",
      "500,000,000+ : 0.2707581227436823\n",
      "1,000,000,000+ : 0.22563176895306858\n",
      "0+ : 0.04512635379061372\n",
      "0 : 0.01128158844765343\n"
     ]
    }
   ],
   "source": [
    "display_table(final_gplay, 5)"
   ]
  },
  {
   "cell_type": "markdown",
   "id": "9024f32c-a6ac-4f34-b2dd-fb9cd7c765d9",
   "metadata": {},
   "source": [
    "Although they are open ended, we are only after a rough idea of the genres which are most popular, so we do not need perfect precision. Therefore we will consider the exact numbers, i.e. an app with 1,000+ installs has 1,000 installs.\n",
    "\n",
    "We still need to convert our strings into floats to perform our average installs per genre (category) calculations; so we also need to remove the commas and plus characters. This is done below within our loops:"
   ]
  },
  {
   "cell_type": "code",
   "execution_count": 112,
   "id": "b247bafc-bb1e-43a3-8b4f-d0c7371a3783",
   "metadata": {},
   "outputs": [
    {
     "name": "stdout",
     "output_type": "stream",
     "text": [
      "ART_AND_DESIGN : 1986335.0877192982\n",
      "AUTO_AND_VEHICLES : 647317.8170731707\n",
      "BEAUTY : 513151.88679245283\n",
      "BOOKS_AND_REFERENCE : 8767811.894736841\n",
      "BUSINESS : 1712290.1474201474\n",
      "COMICS : 817657.2727272727\n",
      "COMMUNICATION : 38456119.167247385\n",
      "DATING : 854028.8303030303\n",
      "EDUCATION : 1833495.145631068\n",
      "ENTERTAINMENT : 11640705.88235294\n",
      "EVENTS : 253542.22222222222\n",
      "FINANCE : 1387692.475609756\n",
      "FOOD_AND_DRINK : 1924897.7363636363\n",
      "HEALTH_AND_FITNESS : 4188821.9853479853\n",
      "HOUSE_AND_HOME : 1331540.5616438356\n",
      "LIBRARIES_AND_DEMO : 638503.734939759\n",
      "LIFESTYLE : 1437816.2687861272\n",
      "GAME : 15588015.603248259\n",
      "FAMILY : 3695641.8198090694\n",
      "MEDICAL : 120550.61980830671\n",
      "SOCIAL : 23253652.127118643\n",
      "SHOPPING : 7036877.311557789\n",
      "PHOTOGRAPHY : 17840110.40229885\n",
      "SPORTS : 3638640.1428571427\n",
      "TRAVEL_AND_LOCAL : 13984077.710144928\n",
      "TOOLS : 10801391.298666667\n",
      "PERSONALIZATION : 5201482.6122448975\n",
      "PRODUCTIVITY : 16787331.344927534\n",
      "PARENTING : 542603.6206896552\n",
      "WEATHER : 5074486.197183099\n",
      "VIDEO_PLAYERS : 24727872.452830188\n",
      "NEWS_AND_MAGAZINES : 9549178.467741935\n",
      "MAPS_AND_NAVIGATION : 4056941.7741935486\n"
     ]
    }
   ],
   "source": [
    "categories_gplay = freq_table(final_gplay, 1)\n",
    "\n",
    "for category in categories_gplay:\n",
    "    # total number of installs for this category\n",
    "    total = 0\n",
    "    # number of apps in this category\n",
    "    len_category = 0\n",
    "    \n",
    "    for app in final_gplay:\n",
    "        category_app = app[1]\n",
    "        if category_app == category:            \n",
    "            n_installs = app[5]\n",
    "            n_installs = n_installs.replace(',', '')\n",
    "            n_installs = n_installs.replace('+', '')\n",
    "            # update values\n",
    "            total += float(n_installs)\n",
    "            len_category += 1\n",
    "    # compute the average installs per app for this category\n",
    "    avg_installs = total / len_category\n",
    "    print(category, ':', avg_installs)"
   ]
  },
  {
   "cell_type": "markdown",
   "id": "1a1a5cf0-df24-4412-95c2-9a60520f3269",
   "metadata": {},
   "source": [
    "We see above that communication apps have the most installs with 38,456,119. However, this number is heavily skewed by apps with over one billion installs (e.g. WhatsApp, Facebook Messenger, Skype), and some apps with over 100 and 500 million installs:"
   ]
  },
  {
   "cell_type": "code",
   "execution_count": 115,
   "id": "98ddbfe7-309e-4203-8370-b4d7703f72e9",
   "metadata": {},
   "outputs": [
    {
     "name": "stdout",
     "output_type": "stream",
     "text": [
      "WhatsApp Messenger : 1,000,000,000+\n",
      "imo beta free calls and text : 100,000,000+\n",
      "Android Messages : 100,000,000+\n",
      "Google Duo - High Quality Video Calls : 500,000,000+\n",
      "Messenger – Text and Video Chat for Free : 1,000,000,000+\n",
      "imo free video calls and chat : 500,000,000+\n",
      "Skype - free IM & video calls : 1,000,000,000+\n",
      "Who : 100,000,000+\n",
      "GO SMS Pro - Messenger, Free Themes, Emoji : 100,000,000+\n",
      "LINE: Free Calls & Messages : 500,000,000+\n",
      "Google Chrome: Fast & Secure : 1,000,000,000+\n",
      "Firefox Browser fast & private : 100,000,000+\n",
      "UC Browser - Fast Download Private & Secure : 500,000,000+\n",
      "Gmail : 1,000,000,000+\n",
      "Hangouts : 1,000,000,000+\n",
      "Messenger Lite: Free Calls & Messages : 100,000,000+\n",
      "Kik : 100,000,000+\n",
      "KakaoTalk: Free Calls & Text : 100,000,000+\n",
      "Opera Mini - fast web browser : 100,000,000+\n",
      "Opera Browser: Fast and Secure : 100,000,000+\n",
      "Telegram : 100,000,000+\n",
      "Truecaller: Caller ID, SMS spam blocking & Dialer : 100,000,000+\n",
      "UC Browser Mini -Tiny Fast Private & Secure : 100,000,000+\n",
      "Viber Messenger : 500,000,000+\n",
      "WeChat : 100,000,000+\n",
      "Yahoo Mail – Stay Organized : 100,000,000+\n",
      "BBM - Free Calls & Messages : 100,000,000+\n"
     ]
    }
   ],
   "source": [
    "for app in final_gplay:\n",
    "    if app[1] == 'COMMUNICATION' and (app[5] == '1,000,000,000+' or app[5] == '500,000,000+' or app[5] == '100,000,000+'):\n",
    "        print(app[0], ':', app[5])"
   ]
  },
  {
   "cell_type": "markdown",
   "id": "40f56445-bc08-4cfe-9be1-d73c23db1ebe",
   "metadata": {},
   "source": [
    "The same pattern happens for the video players category, where they are dominated by apps such as Youtube and Google Play Movies. Photography, productivity and social apps are also dominated by a handful of apps, which makes it hard for us to compete if we were to enter.\n",
    "\n",
    "Previously we found out that the games category makes up for the largest proportion of apps on the Google play store, so it is best to avoid a saturated category.\n",
    "\n",
    "The books and reference genre looks fairly popular, with an average number of installs of 8,767,811. We want to take a closer look at this categoryh, since this was our recommended App profile the App Store, and our aim is to recommend an app genre that shows potential for being profitable on both the App Store and Google Play.\n",
    "\n",
    "Let's take a look at some of the apps from this genre and their number of installs:"
   ]
  },
  {
   "cell_type": "code",
   "execution_count": 119,
   "id": "01622256-b861-4c33-8fbe-bf52891aab4c",
   "metadata": {},
   "outputs": [
    {
     "name": "stdout",
     "output_type": "stream",
     "text": [
      "E-Book Read - Read Book for free : 50,000+\n",
      "Download free book with green book : 100,000+\n",
      "Wikipedia : 10,000,000+\n",
      "Cool Reader : 10,000,000+\n",
      "Free Panda Radio Music : 100,000+\n",
      "Book store : 1,000,000+\n",
      "FBReader: Favorite Book Reader : 10,000,000+\n",
      "English Grammar Complete Handbook : 500,000+\n",
      "Free Books - Spirit Fanfiction and Stories : 1,000,000+\n",
      "Google Play Books : 1,000,000,000+\n",
      "AlReader -any text book reader : 5,000,000+\n",
      "Offline English Dictionary : 100,000+\n",
      "Offline: English to Tagalog Dictionary : 500,000+\n",
      "FamilySearch Tree : 1,000,000+\n",
      "Cloud of Books : 1,000,000+\n",
      "Recipes of Prophetic Medicine for free : 500,000+\n",
      "ReadEra – free ebook reader : 1,000,000+\n",
      "Anonymous caller detection : 10,000+\n",
      "Ebook Reader : 5,000,000+\n",
      "Litnet - E-books : 100,000+\n",
      "Read books online : 5,000,000+\n",
      "English to Urdu Dictionary : 500,000+\n",
      "eBoox: book reader fb2 epub zip : 1,000,000+\n",
      "English Persian Dictionary : 500,000+\n",
      "Flybook : 500,000+\n",
      "All Maths Formulas : 1,000,000+\n",
      "Ancestry : 5,000,000+\n",
      "HTC Help : 10,000,000+\n",
      "English translation from Bengali : 100,000+\n",
      "Pdf Book Download - Read Pdf Book : 100,000+\n",
      "Free Book Reader : 100,000+\n",
      "eBoox new: Reader for fb2 epub zip books : 50,000+\n",
      "Only 30 days in English, the guideline is guaranteed : 500,000+\n",
      "Moon+ Reader : 10,000,000+\n",
      "SH-02J Owner's Manual (Android 8.0) : 50,000+\n",
      "English-Myanmar Dictionary : 1,000,000+\n",
      "Golden Dictionary (EN-AR) : 1,000,000+\n",
      "All Language Translator Free : 1,000,000+\n",
      "Azpen eReader : 500,000+\n",
      "URBANO V 02 instruction manual : 100,000+\n",
      "Bible : 100,000,000+\n",
      "C Programs and Reference : 50,000+\n",
      "C Offline Tutorial : 1,000+\n",
      "C Programs Handbook : 50,000+\n",
      "Amazon Kindle : 100,000,000+\n",
      "Aab e Hayat Full Novel : 100,000+\n",
      "Aldiko Book Reader : 10,000,000+\n",
      "Google I/O 2018 : 500,000+\n",
      "R Language Reference Guide : 10,000+\n",
      "Learn R Programming Full : 5,000+\n",
      "R Programing Offline Tutorial : 1,000+\n",
      "Guide for R Programming : 5+\n",
      "Learn R Programming : 10+\n",
      "R Quick Reference Big Data : 1,000+\n",
      "V Made : 100,000+\n",
      "Wattpad 📖 Free Books : 100,000,000+\n",
      "Dictionary - WordWeb : 5,000,000+\n",
      "Guide (for X-MEN) : 100,000+\n",
      "AC Air condition Troubleshoot,Repair,Maintenance : 5,000+\n",
      "AE Bulletins : 1,000+\n",
      "Ae Allah na Dai (Rasa) : 10,000+\n",
      "50000 Free eBooks & Free AudioBooks : 5,000,000+\n",
      "Ag PhD Field Guide : 10,000+\n",
      "Ag PhD Deficiencies : 10,000+\n",
      "Ag PhD Planting Population Calculator : 1,000+\n",
      "Ag PhD Soybean Diseases : 1,000+\n",
      "Fertilizer Removal By Crop : 50,000+\n",
      "A-J Media Vault : 50+\n",
      "Al-Quran (Free) : 10,000,000+\n",
      "Al Quran (Tafsir & by Word) : 500,000+\n",
      "Al Quran Indonesia : 10,000,000+\n",
      "Al'Quran Bahasa Indonesia : 10,000,000+\n",
      "Al Quran Al karim : 1,000,000+\n",
      "Al-Muhaffiz : 50,000+\n",
      "Al Quran : EAlim - Translations & MP3 Offline : 5,000,000+\n",
      "Al-Quran 30 Juz free copies : 500,000+\n",
      "Koran Read &MP3 30 Juz Offline : 1,000,000+\n",
      "Hafizi Quran 15 lines per page : 1,000,000+\n",
      "Quran for Android : 10,000,000+\n",
      "Surah Al-Waqiah : 100,000+\n",
      "Hisnul Al Muslim - Hisn Invocations & Adhkaar : 100,000+\n",
      "Satellite AR : 1,000,000+\n",
      "Audiobooks from Audible : 100,000,000+\n",
      "Kinot & Eichah for Tisha B'Av : 10,000+\n",
      "AW Tozer Devotionals - Daily : 5,000+\n",
      "Tozer Devotional -Series 1 : 1,000+\n",
      "The Pursuit of God : 1,000+\n",
      "AY Sing : 5,000+\n",
      "Ay Hasnain k Nana Milad Naat : 10,000+\n",
      "Ay Mohabbat Teri Khatir Novel : 10,000+\n",
      "Arizona Statutes, ARS (AZ Law) : 1,000+\n",
      "Oxford A-Z of English Usage : 1,000,000+\n",
      "BD Fishpedia : 1,000+\n",
      "BD All Sim Offer : 10,000+\n",
      "Youboox - Livres, BD et magazines : 500,000+\n",
      "B&H Kids AR : 10,000+\n",
      "B y H Niños ES : 5,000+\n",
      "Dictionary.com: Find Definitions for English Words : 10,000,000+\n",
      "English Dictionary - Offline : 10,000,000+\n",
      "Bible KJV : 5,000,000+\n",
      "Borneo Bible, BM Bible : 10,000+\n",
      "MOD Black for BM : 100+\n",
      "BM Box : 1,000+\n",
      "Anime Mod for BM : 100+\n",
      "NOOK: Read eBooks & Magazines : 10,000,000+\n",
      "NOOK Audiobooks : 500,000+\n",
      "NOOK App for NOOK Devices : 500,000+\n",
      "Browsery by Barnes & Noble : 5,000+\n",
      "bp e-store : 1,000+\n",
      "Brilliant Quotes: Life, Love, Family & Motivation : 1,000,000+\n",
      "BR Ambedkar Biography & Quotes : 10,000+\n",
      "BU Alsace : 100+\n",
      "Catholic La Bu Zo Kam : 500+\n",
      "Khrifa Hla Bu (Solfa) : 10+\n",
      "Kristian Hla Bu : 10,000+\n",
      "SA HLA BU : 1,000+\n",
      "Learn SAP BW : 500+\n",
      "Learn SAP BW on HANA : 500+\n",
      "CA Laws 2018 (California Laws and Codes) : 5,000+\n",
      "Bootable Methods(USB-CD-DVD) : 10,000+\n",
      "cloudLibrary : 100,000+\n",
      "SDA Collegiate Quarterly : 500+\n",
      "Sabbath School : 100,000+\n",
      "Cypress College Library : 100+\n",
      "Stats Royale for Clash Royale : 1,000,000+\n",
      "GATE 21 years CS Papers(2011-2018 Solved) : 50+\n",
      "Learn CT Scan Of Head : 5,000+\n",
      "Easy Cv maker 2018 : 10,000+\n",
      "How to Write CV : 100,000+\n",
      "CW Nuclear : 1,000+\n",
      "CY Spray nozzle : 10+\n",
      "BibleRead En Cy Zh Yue : 5+\n",
      "CZ-Help : 5+\n",
      "Modlitební knížka CZ : 500+\n",
      "Guide for DB Xenoverse : 10,000+\n",
      "Guide for DB Xenoverse 2 : 10,000+\n",
      "Guide for IMS DB : 10+\n",
      "DC HSEMA : 5,000+\n",
      "DC Public Library : 1,000+\n",
      "Painting Lulu DC Super Friends : 1,000+\n",
      "Dictionary : 10,000,000+\n",
      "Fix Error Google Playstore : 1,000+\n",
      "D. H. Lawrence Poems FREE : 1,000+\n",
      "Bilingual Dictionary Audio App : 5,000+\n",
      "DM Screen : 10,000+\n",
      "wikiHow: how to do anything : 1,000,000+\n",
      "Dr. Doug's Tips : 1,000+\n",
      "Bible du Semeur-BDS (French) : 50,000+\n",
      "La citadelle du musulman : 50,000+\n",
      "DV 2019 Entry Guide : 10,000+\n",
      "DV 2019 - EDV Photo & Form : 50,000+\n",
      "DV 2018 Winners Guide : 1,000+\n",
      "EB Annual Meetings : 1,000+\n",
      "EC - AP & Telangana : 5,000+\n",
      "TN Patta Citta & EC : 10,000+\n",
      "AP Stamps and Registration : 10,000+\n",
      "CompactiMa EC pH Calibration : 100+\n",
      "EGW Writings 2 : 100,000+\n",
      "EGW Writings : 1,000,000+\n",
      "Bible with EGW Comments : 100,000+\n",
      "My Little Pony AR Guide : 1,000,000+\n",
      "SDA Sabbath School Quarterly : 500,000+\n",
      "Duaa Ek Ibaadat : 5,000+\n",
      "Spanish English Translator : 10,000,000+\n",
      "Dictionary - Merriam-Webster : 10,000,000+\n",
      "JW Library : 10,000,000+\n",
      "Oxford Dictionary of English : Free : 10,000,000+\n",
      "English Hindi Dictionary : 10,000,000+\n",
      "English to Hindi Dictionary : 5,000,000+\n",
      "EP Research Service : 1,000+\n",
      "Hymnes et Louanges : 100,000+\n",
      "EU Charter : 1,000+\n",
      "EU Data Protection : 1,000+\n",
      "EU IP Codes : 100+\n",
      "EW PDF : 5+\n",
      "BakaReader EX : 100,000+\n",
      "EZ Quran : 50,000+\n",
      "FA Part 1 & 2 Past Papers Solved Free – Offline : 5,000+\n",
      "La Fe de Jesus : 1,000+\n",
      "La Fe de Jesús : 500+\n",
      "Le Fe de Jesus : 500+\n",
      "Florida - Pocket Brainbook : 1,000+\n",
      "Florida Statutes (FL Code) : 1,000+\n",
      "English To Shona Dictionary : 10,000+\n",
      "Greek Bible FP (Audio) : 1,000+\n",
      "Golden Dictionary (FR-AR) : 500,000+\n",
      "Fanfic-FR : 5,000+\n",
      "Bulgarian French Dictionary Fr : 10,000+\n",
      "Chemin (fr) : 1,000+\n",
      "The SCP Foundation DB fr nn5n : 1,000+\n"
     ]
    }
   ],
   "source": [
    "for app in final_gplay:\n",
    "    if app[1] == 'BOOKS_AND_REFERENCE':\n",
    "        print(app[0], ':', app[5])"
   ]
  },
  {
   "cell_type": "markdown",
   "id": "617c16f9-234c-4118-a65e-68e77a5d498e",
   "metadata": {},
   "source": [
    "We should identify if this category's average is heavily skewed by a few apps, or if there are more apps with a decent number of installs (between 1,000,000 and 100,000,000 installs):"
   ]
  },
  {
   "cell_type": "code",
   "execution_count": 122,
   "id": "8e3983f8-db75-47a1-91c1-15db564bcb65",
   "metadata": {},
   "outputs": [
    {
     "name": "stdout",
     "output_type": "stream",
     "text": [
      "Google Play Books : 1,000,000,000+\n",
      "Bible : 100,000,000+\n",
      "Amazon Kindle : 100,000,000+\n",
      "Wattpad 📖 Free Books : 100,000,000+\n",
      "Audiobooks from Audible : 100,000,000+\n"
     ]
    }
   ],
   "source": [
    "for app in final_gplay:\n",
    "    if app[1] == 'BOOKS_AND_REFERENCE' and (app[5] == '1,000,000,000+' or app[5] == '500,000,000+' or app[5] == '100,000,000+'):\n",
    "        print(app[0], ':', app[5])"
   ]
  },
  {
   "cell_type": "markdown",
   "id": "1a444e90-9ae5-4640-b3b6-dcf5db7c242b",
   "metadata": {},
   "source": [
    "There are only a few extremely popular apps, so this could be promising."
   ]
  },
  {
   "cell_type": "code",
   "execution_count": 129,
   "id": "3bb45af4-40dc-4ed6-99d5-c3d7fdb9383c",
   "metadata": {},
   "outputs": [
    {
     "name": "stdout",
     "output_type": "stream",
     "text": [
      "Wikipedia : 10,000,000+\n",
      "Cool Reader : 10,000,000+\n",
      "Book store : 1,000,000+\n",
      "FBReader: Favorite Book Reader : 10,000,000+\n",
      "Free Books - Spirit Fanfiction and Stories : 1,000,000+\n",
      "AlReader -any text book reader : 5,000,000+\n",
      "FamilySearch Tree : 1,000,000+\n",
      "Cloud of Books : 1,000,000+\n",
      "ReadEra – free ebook reader : 1,000,000+\n",
      "Ebook Reader : 5,000,000+\n",
      "Read books online : 5,000,000+\n",
      "eBoox: book reader fb2 epub zip : 1,000,000+\n",
      "All Maths Formulas : 1,000,000+\n",
      "Ancestry : 5,000,000+\n",
      "HTC Help : 10,000,000+\n",
      "Moon+ Reader : 10,000,000+\n",
      "English-Myanmar Dictionary : 1,000,000+\n",
      "Golden Dictionary (EN-AR) : 1,000,000+\n",
      "All Language Translator Free : 1,000,000+\n",
      "Aldiko Book Reader : 10,000,000+\n",
      "Dictionary - WordWeb : 5,000,000+\n",
      "50000 Free eBooks & Free AudioBooks : 5,000,000+\n",
      "Al-Quran (Free) : 10,000,000+\n",
      "Al Quran Indonesia : 10,000,000+\n",
      "Al'Quran Bahasa Indonesia : 10,000,000+\n",
      "Al Quran Al karim : 1,000,000+\n",
      "Al Quran : EAlim - Translations & MP3 Offline : 5,000,000+\n",
      "Koran Read &MP3 30 Juz Offline : 1,000,000+\n",
      "Hafizi Quran 15 lines per page : 1,000,000+\n",
      "Quran for Android : 10,000,000+\n",
      "Satellite AR : 1,000,000+\n",
      "Oxford A-Z of English Usage : 1,000,000+\n",
      "Dictionary.com: Find Definitions for English Words : 10,000,000+\n",
      "English Dictionary - Offline : 10,000,000+\n",
      "Bible KJV : 5,000,000+\n",
      "NOOK: Read eBooks & Magazines : 10,000,000+\n",
      "Brilliant Quotes: Life, Love, Family & Motivation : 1,000,000+\n",
      "Stats Royale for Clash Royale : 1,000,000+\n",
      "Dictionary : 10,000,000+\n",
      "wikiHow: how to do anything : 1,000,000+\n",
      "EGW Writings : 1,000,000+\n",
      "My Little Pony AR Guide : 1,000,000+\n",
      "Spanish English Translator : 10,000,000+\n",
      "Dictionary - Merriam-Webster : 10,000,000+\n",
      "JW Library : 10,000,000+\n",
      "Oxford Dictionary of English : Free : 10,000,000+\n",
      "English Hindi Dictionary : 10,000,000+\n",
      "English to Hindi Dictionary : 5,000,000+\n"
     ]
    }
   ],
   "source": [
    "for app in final_gplay:\n",
    "    if app[1] == 'BOOKS_AND_REFERENCE' and (app[5] == '1,000,000+' or app[5] == '5,000,000+' or app[5] == '10,000,000+' or app[5] == '50,000,000+'):\n",
    "        print(app[0], ':', app[5])"
   ]
  },
  {
   "cell_type": "markdown",
   "id": "c6123676-c38a-40c1-9cb1-aa50f5db2ee2",
   "metadata": {},
   "source": [
    "There are a good amount of apps in this category with decent levels of popularity. This genre already has a lot of apps for reading ebooks, collections of libraries and dictionaries. Hence we should try to not build similar apps since there will be a lot of competition.\n",
    "\n",
    "## Conclusion\n",
    "\n",
    "For this project, we analyzed data about the App Store and Google Play mobile apps, in order to recommend an app profile that can be profitable for both markets.\n",
    "\n",
    "Taking a popular book and transforming it into an app could be profitable for both the Google Play and the App Store markets.\n",
    "Since there are already a lot of libraries, we need our app to have unique features besides the raw text. This could be:\n",
    "- daily quotes or reminders\n",
    "- audio format\n",
    "- a discussion forum related to the book for readers \n"
   ]
  }
 ],
 "metadata": {
  "kernelspec": {
   "display_name": "Python 3 (ipykernel)",
   "language": "python",
   "name": "python3"
  },
  "language_info": {
   "codemirror_mode": {
    "name": "ipython",
    "version": 3
   },
   "file_extension": ".py",
   "mimetype": "text/x-python",
   "name": "python",
   "nbconvert_exporter": "python",
   "pygments_lexer": "ipython3",
   "version": "3.12.4"
  }
 },
 "nbformat": 4,
 "nbformat_minor": 5
}
